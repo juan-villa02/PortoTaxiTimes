{
 "cells": [
  {
   "cell_type": "code",
   "execution_count": 1,
   "id": "b677cbcd",
   "metadata": {},
   "outputs": [],
   "source": [
    "import numpy as np, pandas as pd\n",
    "import matplotlib.pyplot as plt\n",
    "import ast\n",
    "from datetime import datetime"
   ]
  },
  {
   "cell_type": "markdown",
   "id": "231a20d4",
   "metadata": {},
   "source": [
    "## Preprocessing"
   ]
  },
  {
   "cell_type": "code",
   "execution_count": 19,
   "id": "7d12e6f0",
   "metadata": {},
   "outputs": [],
   "source": [
    "# These are all of the files you are given\n",
    "data = pd.read_csv(\"train.csv\")\n",
    "csv_df = pd.read_csv('metaData_taxistandsID_name_GPSlocation.csv', sep=',')\n",
    "\n"
   ]
  },
  {
   "cell_type": "code",
   "execution_count": 20,
   "id": "8f544cf7",
   "metadata": {},
   "outputs": [],
   "source": [
    "def polyline_to_trip_duration(polyline):\n",
    "  return max(polyline.count(\"[\") - 2, 0) * 15\n",
    "\n",
    "def parse_time(x):\n",
    "  # We are using python's builtin datetime library\n",
    "  # https://docs.python.org/3/library/datetime.html#datetime.date.fromtimestamp\n",
    "\n",
    "  # Each x is essentially a 1 row, 1 column pandas Series\n",
    "  dt = datetime.fromtimestamp(x[\"TIMESTAMP\"])\n",
    "  return dt.year, dt.month, dt.day, dt.hour, dt.weekday()"
   ]
  },
  {
   "cell_type": "code",
   "execution_count": 22,
   "id": "65706827",
   "metadata": {},
   "outputs": [],
   "source": [
    "def apply_preprocessing(data):\n",
    "    data = data[data['MISSING_DATA'] == False].copy()\n",
    "    data.drop(['TRIP_ID','MISSING_DATA','CALL_TYPE','ORIGIN_CALL'], axis=1,inplace=True)\n",
    "    data['TAXI_ID']=data['TAXI_ID'].astype(str).str[-3:]\n",
    "    \n",
    "    data = pd.merge(data, csv_df, left_on='ORIGIN_STAND', right_on='ID', how='left')\n",
    "    data.drop(['Descricao','ID','ORIGIN_STAND'], axis=1, inplace=True)\n",
    "    \n",
    "    data[\"LEN\"] = data[\"POLYLINE\"].apply(polyline_to_trip_duration)\n",
    "    \n",
    "    data = data[(data['LEN'] <= 900) & (data['LEN'] >= 30)]\n",
    "    \n",
    "    first_longitude = data['POLYLINE'].apply(lambda x: float((x.split(',')[0])[2:]))\n",
    "    data['Longitude'] = data['Longitude'].fillna(pd.Series(first_longitude))\n",
    "    \n",
    "    first_latitude = data['POLYLINE'].apply(lambda x: float((x.split(',')[1])[:-1]))\n",
    "    data['Latitude'] = data['Latitude'].fillna(pd.Series(first_latitude))\n",
    "    \n",
    "    data[[\"YR\", \"MON\", \"DAY\", \"HR\", \"WK\"]] = data[[\"TIMESTAMP\"]].apply(parse_time, axis=1, result_type=\"expand\")\n",
    "    \n",
    "    data = data.drop('TIMESTAMP', axis=1)\n",
    "    data = data.drop('POLYLINE', axis=1)\n",
    "    data = data.drop('YR', axis=1)\n",
    "    data = data.drop('MON', axis=1)\n",
    "    data = data.drop('DAY', axis=1)\n",
    "    \n",
    "    bins = [-1, 4, 8, 12, 16, 20, 24]\n",
    "    labels = [0, 1, 2, 3, 4, 5]\n",
    "\n",
    "    data['HOUR_GROUP'] = pd.cut(data['HR'], bins=bins, labels=labels, include_lowest=True)\n",
    "    data.drop(['HR'], axis=1, inplace=True)\n",
    "    \n",
    "    data['TAXI_ID'] = data['TAXI_ID'].astype(int)\n",
    "    data['DAY_TYPE'] = data['DAY_TYPE'].astype('category')\n",
    "    \n",
    "    return data\n",
    "final_data = apply_preprocessing(data)"
   ]
  },
  {
   "cell_type": "code",
   "execution_count": 23,
   "id": "564ff01c",
   "metadata": {},
   "outputs": [
    {
     "data": {
      "text/plain": [
       "TAXI_ID          int64\n",
       "DAY_TYPE      category\n",
       "Latitude        object\n",
       "Longitude      float64\n",
       "LEN              int64\n",
       "WK               int64\n",
       "HOUR_GROUP    category\n",
       "dtype: object"
      ]
     },
     "execution_count": 23,
     "metadata": {},
     "output_type": "execute_result"
    }
   ],
   "source": [
    "final_data.dtypes"
   ]
  },
  {
   "cell_type": "code",
   "execution_count": 3,
   "id": "1ff7628b",
   "metadata": {},
   "outputs": [],
   "source": [
    "data = data[data['MISSING_DATA'] == False]\n",
    "data = data.drop('TRIP_ID', axis=1)\n",
    "data = data.drop('MISSING_DATA', axis=1)\n",
    "data = data.drop('CALL_TYPE', axis=1)\n",
    "data = data.drop('ORIGIN_CALL', axis=1)"
   ]
  },
  {
   "cell_type": "code",
   "execution_count": 4,
   "id": "dee1e4fb",
   "metadata": {},
   "outputs": [],
   "source": [
    "data['TAXI_ID']=data['TAXI_ID'].astype(str).str[-3:]"
   ]
  },
  {
   "cell_type": "code",
   "execution_count": 5,
   "id": "698f50c8",
   "metadata": {},
   "outputs": [
    {
     "data": {
      "text/html": [
       "<div>\n",
       "<style scoped>\n",
       "    .dataframe tbody tr th:only-of-type {\n",
       "        vertical-align: middle;\n",
       "    }\n",
       "\n",
       "    .dataframe tbody tr th {\n",
       "        vertical-align: top;\n",
       "    }\n",
       "\n",
       "    .dataframe thead th {\n",
       "        text-align: right;\n",
       "    }\n",
       "</style>\n",
       "<table border=\"1\" class=\"dataframe\">\n",
       "  <thead>\n",
       "    <tr style=\"text-align: right;\">\n",
       "      <th></th>\n",
       "      <th>ORIGIN_STAND</th>\n",
       "      <th>TAXI_ID</th>\n",
       "      <th>TIMESTAMP</th>\n",
       "      <th>DAY_TYPE</th>\n",
       "      <th>POLYLINE</th>\n",
       "    </tr>\n",
       "  </thead>\n",
       "  <tbody>\n",
       "    <tr>\n",
       "      <th>0</th>\n",
       "      <td>NaN</td>\n",
       "      <td>589</td>\n",
       "      <td>1372636858</td>\n",
       "      <td>A</td>\n",
       "      <td>[[-8.618643,41.141412],[-8.618499,41.141376],[...</td>\n",
       "    </tr>\n",
       "    <tr>\n",
       "      <th>1</th>\n",
       "      <td>7.0</td>\n",
       "      <td>596</td>\n",
       "      <td>1372637303</td>\n",
       "      <td>A</td>\n",
       "      <td>[[-8.639847,41.159826],[-8.640351,41.159871],[...</td>\n",
       "    </tr>\n",
       "    <tr>\n",
       "      <th>2</th>\n",
       "      <td>NaN</td>\n",
       "      <td>320</td>\n",
       "      <td>1372636951</td>\n",
       "      <td>A</td>\n",
       "      <td>[[-8.612964,41.140359],[-8.613378,41.14035],[-...</td>\n",
       "    </tr>\n",
       "    <tr>\n",
       "      <th>3</th>\n",
       "      <td>NaN</td>\n",
       "      <td>520</td>\n",
       "      <td>1372636854</td>\n",
       "      <td>A</td>\n",
       "      <td>[[-8.574678,41.151951],[-8.574705,41.151942],[...</td>\n",
       "    </tr>\n",
       "    <tr>\n",
       "      <th>4</th>\n",
       "      <td>NaN</td>\n",
       "      <td>337</td>\n",
       "      <td>1372637091</td>\n",
       "      <td>A</td>\n",
       "      <td>[[-8.645994,41.18049],[-8.645949,41.180517],[-...</td>\n",
       "    </tr>\n",
       "  </tbody>\n",
       "</table>\n",
       "</div>"
      ],
      "text/plain": [
       "   ORIGIN_STAND TAXI_ID   TIMESTAMP DAY_TYPE  \\\n",
       "0           NaN     589  1372636858        A   \n",
       "1           7.0     596  1372637303        A   \n",
       "2           NaN     320  1372636951        A   \n",
       "3           NaN     520  1372636854        A   \n",
       "4           NaN     337  1372637091        A   \n",
       "\n",
       "                                            POLYLINE  \n",
       "0  [[-8.618643,41.141412],[-8.618499,41.141376],[...  \n",
       "1  [[-8.639847,41.159826],[-8.640351,41.159871],[...  \n",
       "2  [[-8.612964,41.140359],[-8.613378,41.14035],[-...  \n",
       "3  [[-8.574678,41.151951],[-8.574705,41.151942],[...  \n",
       "4  [[-8.645994,41.18049],[-8.645949,41.180517],[-...  "
      ]
     },
     "execution_count": 5,
     "metadata": {},
     "output_type": "execute_result"
    }
   ],
   "source": [
    "data.head()"
   ]
  },
  {
   "cell_type": "code",
   "execution_count": 6,
   "id": "6c9af217",
   "metadata": {},
   "outputs": [
    {
     "data": {
      "text/html": [
       "<div>\n",
       "<style scoped>\n",
       "    .dataframe tbody tr th:only-of-type {\n",
       "        vertical-align: middle;\n",
       "    }\n",
       "\n",
       "    .dataframe tbody tr th {\n",
       "        vertical-align: top;\n",
       "    }\n",
       "\n",
       "    .dataframe thead th {\n",
       "        text-align: right;\n",
       "    }\n",
       "</style>\n",
       "<table border=\"1\" class=\"dataframe\">\n",
       "  <thead>\n",
       "    <tr style=\"text-align: right;\">\n",
       "      <th></th>\n",
       "      <th>TAXI_ID</th>\n",
       "      <th>TIMESTAMP</th>\n",
       "      <th>DAY_TYPE</th>\n",
       "      <th>POLYLINE</th>\n",
       "      <th>Latitude</th>\n",
       "      <th>Longitude</th>\n",
       "    </tr>\n",
       "  </thead>\n",
       "  <tbody>\n",
       "    <tr>\n",
       "      <th>0</th>\n",
       "      <td>589</td>\n",
       "      <td>1372636858</td>\n",
       "      <td>A</td>\n",
       "      <td>[[-8.618643,41.141412],[-8.618499,41.141376],[...</td>\n",
       "      <td>NaN</td>\n",
       "      <td>NaN</td>\n",
       "    </tr>\n",
       "    <tr>\n",
       "      <th>1</th>\n",
       "      <td>596</td>\n",
       "      <td>1372637303</td>\n",
       "      <td>A</td>\n",
       "      <td>[[-8.639847,41.159826],[-8.640351,41.159871],[...</td>\n",
       "      <td>41.1599801853</td>\n",
       "      <td>-8.641984</td>\n",
       "    </tr>\n",
       "    <tr>\n",
       "      <th>2</th>\n",
       "      <td>320</td>\n",
       "      <td>1372636951</td>\n",
       "      <td>A</td>\n",
       "      <td>[[-8.612964,41.140359],[-8.613378,41.14035],[-...</td>\n",
       "      <td>NaN</td>\n",
       "      <td>NaN</td>\n",
       "    </tr>\n",
       "    <tr>\n",
       "      <th>3</th>\n",
       "      <td>520</td>\n",
       "      <td>1372636854</td>\n",
       "      <td>A</td>\n",
       "      <td>[[-8.574678,41.151951],[-8.574705,41.151942],[...</td>\n",
       "      <td>NaN</td>\n",
       "      <td>NaN</td>\n",
       "    </tr>\n",
       "    <tr>\n",
       "      <th>4</th>\n",
       "      <td>337</td>\n",
       "      <td>1372637091</td>\n",
       "      <td>A</td>\n",
       "      <td>[[-8.645994,41.18049],[-8.645949,41.180517],[-...</td>\n",
       "      <td>NaN</td>\n",
       "      <td>NaN</td>\n",
       "    </tr>\n",
       "  </tbody>\n",
       "</table>\n",
       "</div>"
      ],
      "text/plain": [
       "  TAXI_ID   TIMESTAMP DAY_TYPE  \\\n",
       "0     589  1372636858        A   \n",
       "1     596  1372637303        A   \n",
       "2     320  1372636951        A   \n",
       "3     520  1372636854        A   \n",
       "4     337  1372637091        A   \n",
       "\n",
       "                                            POLYLINE       Latitude  Longitude  \n",
       "0  [[-8.618643,41.141412],[-8.618499,41.141376],[...            NaN        NaN  \n",
       "1  [[-8.639847,41.159826],[-8.640351,41.159871],[...  41.1599801853  -8.641984  \n",
       "2  [[-8.612964,41.140359],[-8.613378,41.14035],[-...            NaN        NaN  \n",
       "3  [[-8.574678,41.151951],[-8.574705,41.151942],[...            NaN        NaN  \n",
       "4  [[-8.645994,41.18049],[-8.645949,41.180517],[-...            NaN        NaN  "
      ]
     },
     "execution_count": 6,
     "metadata": {},
     "output_type": "execute_result"
    }
   ],
   "source": [
    "\n",
    "data = pd.merge(data, csv_df, left_on='ORIGIN_STAND', right_on='ID', how='left')\n",
    "# Drop unnecessary columns\n",
    "data.drop(['Descricao'], axis=1, inplace=True)\n",
    "data.drop(['ID'], axis=1, inplace=True)\n",
    "data.drop(['ORIGIN_STAND'], axis=1, inplace=True)\n",
    "\n",
    "# Display the merged DataFrame\n",
    "data.head()"
   ]
  },
  {
   "cell_type": "code",
   "execution_count": 7,
   "id": "f8038d4d",
   "metadata": {},
   "outputs": [],
   "source": [
    "data[\"LEN\"] = data[\"POLYLINE\"].apply(polyline_to_trip_duration)"
   ]
  },
  {
   "cell_type": "code",
   "execution_count": 8,
   "id": "ca03e1c5",
   "metadata": {},
   "outputs": [],
   "source": [
    "threshold = 900\n",
    "minimum_len = 30\n",
    "\n",
    "data = data[(data['LEN'] <= threshold) & (data['LEN'] >= minimum_len)]"
   ]
  },
  {
   "cell_type": "code",
   "execution_count": 9,
   "id": "807a6ac0",
   "metadata": {},
   "outputs": [],
   "source": [
    "first_longitude = data['POLYLINE'].apply(lambda x: (x.split(',')[0])[2:])\n",
    "data['Longitude'] = data['Longitude'].fillna(pd.Series(first_longitude))"
   ]
  },
  {
   "cell_type": "code",
   "execution_count": 10,
   "id": "d20c3897",
   "metadata": {},
   "outputs": [],
   "source": [
    "first_latitude = data['POLYLINE'].apply(lambda x: (x.split(',')[1])[:-1])\n",
    "data['Latitude'] = data['Latitude'].fillna(pd.Series(first_latitude))"
   ]
  },
  {
   "cell_type": "code",
   "execution_count": 11,
   "id": "ffa020bd",
   "metadata": {},
   "outputs": [],
   "source": [
    "data[[\"YR\", \"MON\", \"DAY\", \"HR\", \"WK\"]] = data[[\"TIMESTAMP\"]].apply(parse_time, axis=1, result_type=\"expand\")"
   ]
  },
  {
   "cell_type": "code",
   "execution_count": null,
   "id": "58aa9b39",
   "metadata": {},
   "outputs": [],
   "source": [
    "data = data.drop('TIMESTAMP', axis=1)\n",
    "data = data.drop('POLYLINE', axis=1)\n",
    "data = data.drop('YR', axis=1)\n",
    "data = data.drop('MON', axis=1)\n",
    "data = data.drop('DAY', axis=1)"
   ]
  },
  {
   "cell_type": "code",
   "execution_count": null,
   "id": "ad725b35",
   "metadata": {},
   "outputs": [],
   "source": [
    "bins = [-1, 4, 8, 12, 16, 20, 24]\n",
    "labels = [0, 1, 2, 3, 4, 5]\n",
    "\n",
    "data['HOUR_GROUP'] = pd.cut(data['HR'], bins=bins, labels=labels, include_lowest=True)\n",
    "data.drop(['HR'], axis=1, inplace=True)\n",
    "data"
   ]
  },
  {
   "cell_type": "code",
   "execution_count": null,
   "id": "c560c890",
   "metadata": {},
   "outputs": [],
   "source": []
  }
 ],
 "metadata": {
  "kernelspec": {
   "display_name": "Python 3 (ipykernel)",
   "language": "python",
   "name": "python3"
  },
  "language_info": {
   "codemirror_mode": {
    "name": "ipython",
    "version": 3
   },
   "file_extension": ".py",
   "mimetype": "text/x-python",
   "name": "python",
   "nbconvert_exporter": "python",
   "pygments_lexer": "ipython3",
   "version": "3.9.5"
  }
 },
 "nbformat": 4,
 "nbformat_minor": 5
}
